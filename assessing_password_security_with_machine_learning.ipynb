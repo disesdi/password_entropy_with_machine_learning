{
  "cells": [
    {
      "cell_type": "code",
      "execution_count": 1,
      "id": "43bc4588",
      "metadata": {
        "id": "43bc4588"
      },
      "outputs": [],
      "source": [
        "import pandas as pd\n",
        "from sklearn.utils import shuffle\n",
        "from sklearn.model_selection import train_test_split\n",
        "from sklearn.pipeline import Pipeline\n",
        "from sklearn.feature_extraction.text import TfidfVectorizer\n",
        "from xgboost import XGBClassifier"
      ]
    },
    {
      "cell_type": "code",
      "source": [
        "from google.colab import files\n",
        "uploaded = files.upload()"
      ],
      "metadata": {
        "colab": {
          "base_uri": "https://localhost:8080/",
          "height": 73
        },
        "id": "gpD0haB4RSq8",
        "outputId": "9c6b1361-8545-40ca-8244-5bc64172fb3d"
      },
      "id": "gpD0haB4RSq8",
      "execution_count": 3,
      "outputs": [
        {
          "output_type": "display_data",
          "data": {
            "text/plain": [
              "<IPython.core.display.HTML object>"
            ],
            "text/html": [
              "\n",
              "     <input type=\"file\" id=\"files-025fe2e8-3859-4cc0-a97f-34d2749fab6f\" name=\"files[]\" multiple disabled\n",
              "        style=\"border:none\" />\n",
              "     <output id=\"result-025fe2e8-3859-4cc0-a97f-34d2749fab6f\">\n",
              "      Upload widget is only available when the cell has been executed in the\n",
              "      current browser session. Please rerun this cell to enable.\n",
              "      </output>\n",
              "      <script>// Copyright 2017 Google LLC\n",
              "//\n",
              "// Licensed under the Apache License, Version 2.0 (the \"License\");\n",
              "// you may not use this file except in compliance with the License.\n",
              "// You may obtain a copy of the License at\n",
              "//\n",
              "//      http://www.apache.org/licenses/LICENSE-2.0\n",
              "//\n",
              "// Unless required by applicable law or agreed to in writing, software\n",
              "// distributed under the License is distributed on an \"AS IS\" BASIS,\n",
              "// WITHOUT WARRANTIES OR CONDITIONS OF ANY KIND, either express or implied.\n",
              "// See the License for the specific language governing permissions and\n",
              "// limitations under the License.\n",
              "\n",
              "/**\n",
              " * @fileoverview Helpers for google.colab Python module.\n",
              " */\n",
              "(function(scope) {\n",
              "function span(text, styleAttributes = {}) {\n",
              "  const element = document.createElement('span');\n",
              "  element.textContent = text;\n",
              "  for (const key of Object.keys(styleAttributes)) {\n",
              "    element.style[key] = styleAttributes[key];\n",
              "  }\n",
              "  return element;\n",
              "}\n",
              "\n",
              "// Max number of bytes which will be uploaded at a time.\n",
              "const MAX_PAYLOAD_SIZE = 100 * 1024;\n",
              "\n",
              "function _uploadFiles(inputId, outputId) {\n",
              "  const steps = uploadFilesStep(inputId, outputId);\n",
              "  const outputElement = document.getElementById(outputId);\n",
              "  // Cache steps on the outputElement to make it available for the next call\n",
              "  // to uploadFilesContinue from Python.\n",
              "  outputElement.steps = steps;\n",
              "\n",
              "  return _uploadFilesContinue(outputId);\n",
              "}\n",
              "\n",
              "// This is roughly an async generator (not supported in the browser yet),\n",
              "// where there are multiple asynchronous steps and the Python side is going\n",
              "// to poll for completion of each step.\n",
              "// This uses a Promise to block the python side on completion of each step,\n",
              "// then passes the result of the previous step as the input to the next step.\n",
              "function _uploadFilesContinue(outputId) {\n",
              "  const outputElement = document.getElementById(outputId);\n",
              "  const steps = outputElement.steps;\n",
              "\n",
              "  const next = steps.next(outputElement.lastPromiseValue);\n",
              "  return Promise.resolve(next.value.promise).then((value) => {\n",
              "    // Cache the last promise value to make it available to the next\n",
              "    // step of the generator.\n",
              "    outputElement.lastPromiseValue = value;\n",
              "    return next.value.response;\n",
              "  });\n",
              "}\n",
              "\n",
              "/**\n",
              " * Generator function which is called between each async step of the upload\n",
              " * process.\n",
              " * @param {string} inputId Element ID of the input file picker element.\n",
              " * @param {string} outputId Element ID of the output display.\n",
              " * @return {!Iterable<!Object>} Iterable of next steps.\n",
              " */\n",
              "function* uploadFilesStep(inputId, outputId) {\n",
              "  const inputElement = document.getElementById(inputId);\n",
              "  inputElement.disabled = false;\n",
              "\n",
              "  const outputElement = document.getElementById(outputId);\n",
              "  outputElement.innerHTML = '';\n",
              "\n",
              "  const pickedPromise = new Promise((resolve) => {\n",
              "    inputElement.addEventListener('change', (e) => {\n",
              "      resolve(e.target.files);\n",
              "    });\n",
              "  });\n",
              "\n",
              "  const cancel = document.createElement('button');\n",
              "  inputElement.parentElement.appendChild(cancel);\n",
              "  cancel.textContent = 'Cancel upload';\n",
              "  const cancelPromise = new Promise((resolve) => {\n",
              "    cancel.onclick = () => {\n",
              "      resolve(null);\n",
              "    };\n",
              "  });\n",
              "\n",
              "  // Wait for the user to pick the files.\n",
              "  const files = yield {\n",
              "    promise: Promise.race([pickedPromise, cancelPromise]),\n",
              "    response: {\n",
              "      action: 'starting',\n",
              "    }\n",
              "  };\n",
              "\n",
              "  cancel.remove();\n",
              "\n",
              "  // Disable the input element since further picks are not allowed.\n",
              "  inputElement.disabled = true;\n",
              "\n",
              "  if (!files) {\n",
              "    return {\n",
              "      response: {\n",
              "        action: 'complete',\n",
              "      }\n",
              "    };\n",
              "  }\n",
              "\n",
              "  for (const file of files) {\n",
              "    const li = document.createElement('li');\n",
              "    li.append(span(file.name, {fontWeight: 'bold'}));\n",
              "    li.append(span(\n",
              "        `(${file.type || 'n/a'}) - ${file.size} bytes, ` +\n",
              "        `last modified: ${\n",
              "            file.lastModifiedDate ? file.lastModifiedDate.toLocaleDateString() :\n",
              "                                    'n/a'} - `));\n",
              "    const percent = span('0% done');\n",
              "    li.appendChild(percent);\n",
              "\n",
              "    outputElement.appendChild(li);\n",
              "\n",
              "    const fileDataPromise = new Promise((resolve) => {\n",
              "      const reader = new FileReader();\n",
              "      reader.onload = (e) => {\n",
              "        resolve(e.target.result);\n",
              "      };\n",
              "      reader.readAsArrayBuffer(file);\n",
              "    });\n",
              "    // Wait for the data to be ready.\n",
              "    let fileData = yield {\n",
              "      promise: fileDataPromise,\n",
              "      response: {\n",
              "        action: 'continue',\n",
              "      }\n",
              "    };\n",
              "\n",
              "    // Use a chunked sending to avoid message size limits. See b/62115660.\n",
              "    let position = 0;\n",
              "    do {\n",
              "      const length = Math.min(fileData.byteLength - position, MAX_PAYLOAD_SIZE);\n",
              "      const chunk = new Uint8Array(fileData, position, length);\n",
              "      position += length;\n",
              "\n",
              "      const base64 = btoa(String.fromCharCode.apply(null, chunk));\n",
              "      yield {\n",
              "        response: {\n",
              "          action: 'append',\n",
              "          file: file.name,\n",
              "          data: base64,\n",
              "        },\n",
              "      };\n",
              "\n",
              "      let percentDone = fileData.byteLength === 0 ?\n",
              "          100 :\n",
              "          Math.round((position / fileData.byteLength) * 100);\n",
              "      percent.textContent = `${percentDone}% done`;\n",
              "\n",
              "    } while (position < fileData.byteLength);\n",
              "  }\n",
              "\n",
              "  // All done.\n",
              "  yield {\n",
              "    response: {\n",
              "      action: 'complete',\n",
              "    }\n",
              "  };\n",
              "}\n",
              "\n",
              "scope.google = scope.google || {};\n",
              "scope.google.colab = scope.google.colab || {};\n",
              "scope.google.colab._files = {\n",
              "  _uploadFiles,\n",
              "  _uploadFilesContinue,\n",
              "};\n",
              "})(self);\n",
              "</script> "
            ]
          },
          "metadata": {}
        },
        {
          "output_type": "stream",
          "name": "stdout",
          "text": [
            "Saving passwordDataset.csv to passwordDataset.csv\n"
          ]
        }
      ]
    },
    {
      "cell_type": "code",
      "execution_count": 4,
      "id": "b96b2463",
      "metadata": {
        "id": "b96b2463"
      },
      "outputs": [],
      "source": [
        "# read in the dataset\n",
        "\n",
        "pwdf = pd.read_csv('passwordDataset.csv')"
      ]
    },
    {
      "cell_type": "code",
      "execution_count": 5,
      "id": "ec4fa53c",
      "metadata": {
        "colab": {
          "base_uri": "https://localhost:8080/",
          "height": 676
        },
        "id": "ec4fa53c",
        "outputId": "e7b09d1a-3bbf-4e52-a8e0-e507de3d9d4a"
      },
      "outputs": [
        {
          "output_type": "execute_result",
          "data": {
            "text/plain": [
              "            password  strength\n",
              "0           kzde5577         1\n",
              "1           kino3434         1\n",
              "2          visi7k1yr         1\n",
              "3           megzy123         1\n",
              "4        lamborghin1         1\n",
              "5   AVYq1lDE4MgAZfNt         2\n",
              "6           u6c8vhow         1\n",
              "7           v1118714         1\n",
              "8       universe2908         1\n",
              "9           as326159         1\n",
              "10          asv5o9yu         1\n",
              "11      612035180tok         1\n",
              "12        jytifok873         1\n",
              "13  WUt9IZzE0OQ7PkNE         2\n",
              "14      jerusalem393         1\n",
              "15        g067057895         1\n",
              "16       52558000aaa         1\n",
              "17          idofo673         1\n",
              "18         6975038lp         1\n",
              "19         sbl571017         1"
            ],
            "text/html": [
              "\n",
              "  <div id=\"df-173232c4-77a5-4386-bc42-0417ab9bc919\">\n",
              "    <div class=\"colab-df-container\">\n",
              "      <div>\n",
              "<style scoped>\n",
              "    .dataframe tbody tr th:only-of-type {\n",
              "        vertical-align: middle;\n",
              "    }\n",
              "\n",
              "    .dataframe tbody tr th {\n",
              "        vertical-align: top;\n",
              "    }\n",
              "\n",
              "    .dataframe thead th {\n",
              "        text-align: right;\n",
              "    }\n",
              "</style>\n",
              "<table border=\"1\" class=\"dataframe\">\n",
              "  <thead>\n",
              "    <tr style=\"text-align: right;\">\n",
              "      <th></th>\n",
              "      <th>password</th>\n",
              "      <th>strength</th>\n",
              "    </tr>\n",
              "  </thead>\n",
              "  <tbody>\n",
              "    <tr>\n",
              "      <th>0</th>\n",
              "      <td>kzde5577</td>\n",
              "      <td>1</td>\n",
              "    </tr>\n",
              "    <tr>\n",
              "      <th>1</th>\n",
              "      <td>kino3434</td>\n",
              "      <td>1</td>\n",
              "    </tr>\n",
              "    <tr>\n",
              "      <th>2</th>\n",
              "      <td>visi7k1yr</td>\n",
              "      <td>1</td>\n",
              "    </tr>\n",
              "    <tr>\n",
              "      <th>3</th>\n",
              "      <td>megzy123</td>\n",
              "      <td>1</td>\n",
              "    </tr>\n",
              "    <tr>\n",
              "      <th>4</th>\n",
              "      <td>lamborghin1</td>\n",
              "      <td>1</td>\n",
              "    </tr>\n",
              "    <tr>\n",
              "      <th>5</th>\n",
              "      <td>AVYq1lDE4MgAZfNt</td>\n",
              "      <td>2</td>\n",
              "    </tr>\n",
              "    <tr>\n",
              "      <th>6</th>\n",
              "      <td>u6c8vhow</td>\n",
              "      <td>1</td>\n",
              "    </tr>\n",
              "    <tr>\n",
              "      <th>7</th>\n",
              "      <td>v1118714</td>\n",
              "      <td>1</td>\n",
              "    </tr>\n",
              "    <tr>\n",
              "      <th>8</th>\n",
              "      <td>universe2908</td>\n",
              "      <td>1</td>\n",
              "    </tr>\n",
              "    <tr>\n",
              "      <th>9</th>\n",
              "      <td>as326159</td>\n",
              "      <td>1</td>\n",
              "    </tr>\n",
              "    <tr>\n",
              "      <th>10</th>\n",
              "      <td>asv5o9yu</td>\n",
              "      <td>1</td>\n",
              "    </tr>\n",
              "    <tr>\n",
              "      <th>11</th>\n",
              "      <td>612035180tok</td>\n",
              "      <td>1</td>\n",
              "    </tr>\n",
              "    <tr>\n",
              "      <th>12</th>\n",
              "      <td>jytifok873</td>\n",
              "      <td>1</td>\n",
              "    </tr>\n",
              "    <tr>\n",
              "      <th>13</th>\n",
              "      <td>WUt9IZzE0OQ7PkNE</td>\n",
              "      <td>2</td>\n",
              "    </tr>\n",
              "    <tr>\n",
              "      <th>14</th>\n",
              "      <td>jerusalem393</td>\n",
              "      <td>1</td>\n",
              "    </tr>\n",
              "    <tr>\n",
              "      <th>15</th>\n",
              "      <td>g067057895</td>\n",
              "      <td>1</td>\n",
              "    </tr>\n",
              "    <tr>\n",
              "      <th>16</th>\n",
              "      <td>52558000aaa</td>\n",
              "      <td>1</td>\n",
              "    </tr>\n",
              "    <tr>\n",
              "      <th>17</th>\n",
              "      <td>idofo673</td>\n",
              "      <td>1</td>\n",
              "    </tr>\n",
              "    <tr>\n",
              "      <th>18</th>\n",
              "      <td>6975038lp</td>\n",
              "      <td>1</td>\n",
              "    </tr>\n",
              "    <tr>\n",
              "      <th>19</th>\n",
              "      <td>sbl571017</td>\n",
              "      <td>1</td>\n",
              "    </tr>\n",
              "  </tbody>\n",
              "</table>\n",
              "</div>\n",
              "      <button class=\"colab-df-convert\" onclick=\"convertToInteractive('df-173232c4-77a5-4386-bc42-0417ab9bc919')\"\n",
              "              title=\"Convert this dataframe to an interactive table.\"\n",
              "              style=\"display:none;\">\n",
              "        \n",
              "  <svg xmlns=\"http://www.w3.org/2000/svg\" height=\"24px\"viewBox=\"0 0 24 24\"\n",
              "       width=\"24px\">\n",
              "    <path d=\"M0 0h24v24H0V0z\" fill=\"none\"/>\n",
              "    <path d=\"M18.56 5.44l.94 2.06.94-2.06 2.06-.94-2.06-.94-.94-2.06-.94 2.06-2.06.94zm-11 1L8.5 8.5l.94-2.06 2.06-.94-2.06-.94L8.5 2.5l-.94 2.06-2.06.94zm10 10l.94 2.06.94-2.06 2.06-.94-2.06-.94-.94-2.06-.94 2.06-2.06.94z\"/><path d=\"M17.41 7.96l-1.37-1.37c-.4-.4-.92-.59-1.43-.59-.52 0-1.04.2-1.43.59L10.3 9.45l-7.72 7.72c-.78.78-.78 2.05 0 2.83L4 21.41c.39.39.9.59 1.41.59.51 0 1.02-.2 1.41-.59l7.78-7.78 2.81-2.81c.8-.78.8-2.07 0-2.86zM5.41 20L4 18.59l7.72-7.72 1.47 1.35L5.41 20z\"/>\n",
              "  </svg>\n",
              "      </button>\n",
              "      \n",
              "  <style>\n",
              "    .colab-df-container {\n",
              "      display:flex;\n",
              "      flex-wrap:wrap;\n",
              "      gap: 12px;\n",
              "    }\n",
              "\n",
              "    .colab-df-convert {\n",
              "      background-color: #E8F0FE;\n",
              "      border: none;\n",
              "      border-radius: 50%;\n",
              "      cursor: pointer;\n",
              "      display: none;\n",
              "      fill: #1967D2;\n",
              "      height: 32px;\n",
              "      padding: 0 0 0 0;\n",
              "      width: 32px;\n",
              "    }\n",
              "\n",
              "    .colab-df-convert:hover {\n",
              "      background-color: #E2EBFA;\n",
              "      box-shadow: 0px 1px 2px rgba(60, 64, 67, 0.3), 0px 1px 3px 1px rgba(60, 64, 67, 0.15);\n",
              "      fill: #174EA6;\n",
              "    }\n",
              "\n",
              "    [theme=dark] .colab-df-convert {\n",
              "      background-color: #3B4455;\n",
              "      fill: #D2E3FC;\n",
              "    }\n",
              "\n",
              "    [theme=dark] .colab-df-convert:hover {\n",
              "      background-color: #434B5C;\n",
              "      box-shadow: 0px 1px 3px 1px rgba(0, 0, 0, 0.15);\n",
              "      filter: drop-shadow(0px 1px 2px rgba(0, 0, 0, 0.3));\n",
              "      fill: #FFFFFF;\n",
              "    }\n",
              "  </style>\n",
              "\n",
              "      <script>\n",
              "        const buttonEl =\n",
              "          document.querySelector('#df-173232c4-77a5-4386-bc42-0417ab9bc919 button.colab-df-convert');\n",
              "        buttonEl.style.display =\n",
              "          google.colab.kernel.accessAllowed ? 'block' : 'none';\n",
              "\n",
              "        async function convertToInteractive(key) {\n",
              "          const element = document.querySelector('#df-173232c4-77a5-4386-bc42-0417ab9bc919');\n",
              "          const dataTable =\n",
              "            await google.colab.kernel.invokeFunction('convertToInteractive',\n",
              "                                                     [key], {});\n",
              "          if (!dataTable) return;\n",
              "\n",
              "          const docLinkHtml = 'Like what you see? Visit the ' +\n",
              "            '<a target=\"_blank\" href=https://colab.research.google.com/notebooks/data_table.ipynb>data table notebook</a>'\n",
              "            + ' to learn more about interactive tables.';\n",
              "          element.innerHTML = '';\n",
              "          dataTable['output_type'] = 'display_data';\n",
              "          await google.colab.output.renderOutput(dataTable, element);\n",
              "          const docLink = document.createElement('div');\n",
              "          docLink.innerHTML = docLinkHtml;\n",
              "          element.appendChild(docLink);\n",
              "        }\n",
              "      </script>\n",
              "    </div>\n",
              "  </div>\n",
              "  "
            ]
          },
          "metadata": {},
          "execution_count": 5
        }
      ],
      "source": [
        "# print 1st twenty examples\n",
        "\n",
        "pwdf.head(20)"
      ]
    },
    {
      "cell_type": "markdown",
      "id": "83552b8d",
      "metadata": {
        "id": "83552b8d"
      },
      "source": [
        "## exploratory data analysis\n",
        "\n",
        "the first twenty examples in this dataset show passwords with a value of 1 in the `strength` column.\n",
        "\n",
        "what values are possible?"
      ]
    },
    {
      "cell_type": "code",
      "execution_count": 27,
      "id": "0b07813f",
      "metadata": {
        "colab": {
          "base_uri": "https://localhost:8080/"
        },
        "id": "0b07813f",
        "outputId": "69947100-411a-4304-e50d-95eed3a564b3"
      },
      "outputs": [
        {
          "output_type": "stream",
          "name": "stdout",
          "text": [
            "[1, 1, 1, 1, 1, 2, 1, 1, 1, 1, 1, 1, 1, 2, 1, 1, 1, 1, 1, 1, 2, 0, 2, 1, 1, 1, 1, 1, 1, 1, 1, 1, 1, 1, 1, 0, 1, 1, 1, 1, 1, 2, 1, 1, 0, 1, 1, 2, 1, 1, 0]\n"
          ]
        }
      ],
      "source": [
        "# print first 50 values of the 'strength' column\n",
        "\n",
        "strength_vals = pwdf['strength'].tolist()\n",
        "\n",
        "print(strength_vals[:51])"
      ]
    },
    {
      "cell_type": "markdown",
      "id": "31dc0c59",
      "metadata": {
        "id": "31dc0c59"
      },
      "source": [
        "at first glance, it looks like there are 3 potential categories in the dataset: `[0,1,2]`\n",
        "\n",
        "let's grab the *unique* values from the column to be sure:"
      ]
    },
    {
      "cell_type": "code",
      "execution_count": 8,
      "id": "dd84971c",
      "metadata": {
        "colab": {
          "base_uri": "https://localhost:8080/"
        },
        "id": "dd84971c",
        "outputId": "cae4d05d-cb40-4165-f702-15b292f9d385"
      },
      "outputs": [
        {
          "output_type": "stream",
          "name": "stdout",
          "text": [
            "[1 2 0]\n"
          ]
        }
      ],
      "source": [
        "uniq_strength_vals = pwdf.strength.unique()\n",
        "\n",
        "print(uniq_strength_vals)"
      ]
    },
    {
      "cell_type": "markdown",
      "id": "1cdf0dd2",
      "metadata": {
        "id": "1cdf0dd2"
      },
      "source": [
        "we do indeed have three classes of password strength here: \n",
        "\n",
        "`[0,1,2]`\n",
        "\n",
        "indicating a *multiclass classification* task.\n",
        "\n",
        "### random shuffle\n",
        "\n",
        "i'll be shuffling the dataset randomly to (hopefully) make sure the examples are as evenly distributed as possible.\n",
        "\n",
        "i prefer to use the `sklearn` shuffle utility, as it allows for taking advantage of sklearn's pipelines, which is useful for production ML & reproducibility."
      ]
    },
    {
      "cell_type": "code",
      "execution_count": 9,
      "id": "8d955501",
      "metadata": {
        "id": "8d955501"
      },
      "outputs": [],
      "source": [
        "shuffled_pwdf = shuffle(pwdf, random_state=29)"
      ]
    },
    {
      "cell_type": "code",
      "execution_count": 10,
      "id": "df7f3b5d",
      "metadata": {
        "colab": {
          "base_uri": "https://localhost:8080/"
        },
        "id": "df7f3b5d",
        "outputId": "e5121472-e30d-4249-c820-5ed2e60deb67"
      },
      "outputs": [
        {
          "output_type": "stream",
          "name": "stdout",
          "text": [
            "                password  strength\n",
            "173361       sadullah500         1\n",
            "101200         ifuwaf809         1\n",
            "440944  supPYtzM4NAiHoaq         2\n",
            "183963         agodyl344         1\n",
            "243213          nwgosqu8         1\n",
            "622660            jatb9c         0\n",
            "286099  cG7BNpDgzMQobTPG         2\n",
            "555622          522002kc         1\n",
            "420532  aCWDFgTQ2OQYxeb4         2\n",
            "159954          uutu0y97         1\n",
            "538696        ibyvifo493         1\n",
            "40405          dinan2010         1\n",
            "29391          aux0wh911         1\n",
            "248196         sublime23         1\n",
            "306188         qmpzalla1         1\n",
            "533250  mhfG9STczOAbPHxb         2\n",
            "121021      jiachenjun03         1\n",
            "505453            erkor6         0\n",
            "442935        yxyzelu992         1\n",
            "479032  H8mvktjkxMABJuY3         2\n"
          ]
        }
      ],
      "source": [
        "print(shuffled_pwdf.head(20))"
      ]
    },
    {
      "cell_type": "markdown",
      "id": "a7f91708",
      "metadata": {
        "id": "a7f91708"
      },
      "source": [
        "so now the dataset has been shuffled, and we can verify that there are examples from all three classes in the first twenty rows.\n",
        "\n",
        "### train test split\n",
        "\n",
        "now to split the dataset into training & testing data.\n",
        "\n",
        "i like to use the `train_test_split` module from the `sklearn` library, again for pipeline & reproducibility reasons:"
      ]
    },
    {
      "cell_type": "code",
      "execution_count": 11,
      "id": "aa631f38",
      "metadata": {
        "id": "aa631f38"
      },
      "outputs": [],
      "source": [
        "X_train, X_test, y_train, y_test = train_test_split(shuffled_pwdf['password'], shuffled_pwdf['strength'], test_size=0.3, random_state=29)"
      ]
    },
    {
      "cell_type": "markdown",
      "id": "827b38bb",
      "metadata": {
        "id": "827b38bb"
      },
      "source": [
        "create a function that splits each password string into individual characters:"
      ]
    },
    {
      "cell_type": "code",
      "execution_count": 12,
      "id": "310665af",
      "metadata": {
        "id": "310665af"
      },
      "outputs": [],
      "source": [
        "def get_char_tokens(input_str):\n",
        "    '''\n",
        "    takes input string\n",
        "    splits into individual characters\n",
        "    returns characters\n",
        "    '''\n",
        "    ind_chars = [x for x in input_str]\n",
        "    \n",
        "    return ind_chars"
      ]
    },
    {
      "cell_type": "markdown",
      "id": "283478a7",
      "metadata": {
        "id": "283478a7"
      },
      "source": [
        "### TF-IDF processing & model training pipeline\n",
        "\n",
        "because passwords are fundamentally text data, we will need to split them into tokens & vectorize them.\n",
        "\n",
        "TF-IDF is a useful vectorization for data of this type, so i'll be implementing it via the `sklearn.feature_extraction` module.\n",
        "\n",
        "i'll create a `Pipeline` to perform remaining preprocessing & model training, including splitting passwords into individual characters & performing TF-IDF vectorization\n",
        "\n",
        "**pipeline steps:**\n",
        "\n",
        "* split passwords to character tokens using the `get_char_tokens` function i created above\n",
        "\n",
        "* vectorize tokens using `TfidfVectorizer` from `sklearn`\n",
        "\n",
        "* train the classifier"
      ]
    },
    {
      "cell_type": "code",
      "execution_count": 13,
      "id": "a18ae03e",
      "metadata": {
        "id": "a18ae03e"
      },
      "outputs": [],
      "source": [
        "# create the pipeline\n",
        "\n",
        "pwd_clf = Pipeline([(\"vect\", TfidfVectorizer(tokenizer=get_char_tokens)), (\"clf\", XGBClassifier()),]\n",
        ")"
      ]
    },
    {
      "cell_type": "code",
      "execution_count": 15,
      "id": "21a40c75",
      "metadata": {
        "colab": {
          "base_uri": "https://localhost:8080/"
        },
        "id": "21a40c75",
        "outputId": "1768888b-cd0f-44f9-8784-a35852c86cab"
      },
      "outputs": [
        {
          "output_type": "execute_result",
          "data": {
            "text/plain": [
              "0.9125948270712622"
            ]
          },
          "metadata": {},
          "execution_count": 15
        }
      ],
      "source": [
        "# train the classifier\n",
        "# score performance\n",
        "\n",
        "pwd_clf.fit(X_train, y_train)\n",
        "pwd_clf.score(X_test, y_test)"
      ]
    },
    {
      "cell_type": "code",
      "execution_count": 23,
      "id": "0e68e962",
      "metadata": {
        "id": "0e68e962"
      },
      "outputs": [],
      "source": [
        "# test on a high entropy password & a weak password\n",
        "\n",
        "weakest = 'qwerty'\n",
        "weak = 'passw0rd'\n",
        "hi_entropy = 'sD4cnj83kfkIA382Kd93DiJdf72'"
      ]
    },
    {
      "cell_type": "code",
      "source": [
        "# get predictions\n",
        "\n",
        "pwd_clf.predict([weakest,weak,hi_entropy])"
      ],
      "metadata": {
        "colab": {
          "base_uri": "https://localhost:8080/"
        },
        "id": "x58GGFTIeycA",
        "outputId": "d5d4c40e-4b38-40dc-be36-e206e561160a"
      },
      "id": "x58GGFTIeycA",
      "execution_count": 24,
      "outputs": [
        {
          "output_type": "execute_result",
          "data": {
            "text/plain": [
              "array([0, 1, 2])"
            ]
          },
          "metadata": {},
          "execution_count": 24
        }
      ]
    }
  ],
  "metadata": {
    "kernelspec": {
      "display_name": "Python 3 (ipykernel)",
      "language": "python",
      "name": "python3"
    },
    "language_info": {
      "codemirror_mode": {
        "name": "ipython",
        "version": 3
      },
      "file_extension": ".py",
      "mimetype": "text/x-python",
      "name": "python",
      "nbconvert_exporter": "python",
      "pygments_lexer": "ipython3",
      "version": "3.9.2"
    },
    "colab": {
      "provenance": []
    }
  },
  "nbformat": 4,
  "nbformat_minor": 5
}